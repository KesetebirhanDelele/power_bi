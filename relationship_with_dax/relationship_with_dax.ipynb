{
 "cells": [
  {
   "attachments": {},
   "cell_type": "markdown",
   "metadata": {},
   "source": [
    "# Relashinships using DAX"
   ]
  },
  {
   "attachments": {},
   "cell_type": "markdown",
   "metadata": {},
   "source": [
    "## CROSSFILTER\n",
    "When there are tables that are not properly related to one another to answer a business question, they can be joined using CROSSFILTER.\n",
    "![Alt text](crossfilter_model.png)"
   ]
  },
  {
   "attachments": {},
   "cell_type": "markdown",
   "metadata": {},
   "source": [
    "In the example above, sales table is related to both sales terittory and reseller tables but in one direction. For that reason, reseller and sales teritory tables can't filter one another. \n",
    "\n",
    "This can be fixed by adjustng the relationship between sales teritory and sales table manually two be bi-directional or it can be done using DAX as follows while calculating reseller count:\n",
    "\n",
    "Reseller Count = CALCULATE(COUNT(Reseller[Reseller ID]),CROSSFILTER(Reseller[ResellerKey],Sales[ResellerKey],Both))\n",
    "\n",
    "\n",
    "![Alt text](crossfilter_result.png)"
   ]
  },
  {
   "attachments": {},
   "cell_type": "markdown",
   "metadata": {},
   "source": [
    "There are two reseller count columns. The first is not counting it properly since reseller ID is counted and it is not showing correct result since it is not related to reseller terittory table. Reseller Count is properly calculated by the DAX code written above and hence it is showing the result correctly."
   ]
  }
 ],
 "metadata": {
  "language_info": {
   "name": "python"
  },
  "orig_nbformat": 4
 },
 "nbformat": 4,
 "nbformat_minor": 2
}
