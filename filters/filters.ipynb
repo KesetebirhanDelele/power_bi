{
 "cells": [
  {
   "attachments": {},
   "cell_type": "markdown",
   "metadata": {},
   "source": [
    "# All\n",
    "The argument to the ALL function must be either a reference to a base table or a reference to a base column. You cannot use table expressions or column expressions with the ALL function.\n",
    "\n",
    "Return value\n",
    "The table or column with filters removed."
   ]
  },
  {
   "attachments": {},
   "cell_type": "markdown",
   "metadata": {},
   "source": [
    "## All(Table)"
   ]
  },
  {
   "attachments": {},
   "cell_type": "markdown",
   "metadata": {},
   "source": [
    "```\n",
    "Removes all filters from the specified table. In effect, ALL(Table) returns all of the values in the table, removing any filters from the context that otherwise might have been applied. This function is useful when you are working with many levels of grouping, and want to create a calculation that creates a ratio of an aggregated value to the total value. The first example demonstrates this scenario.\n",
    "```"
   ]
  },
  {
   "attachments": {},
   "cell_type": "markdown",
   "metadata": {},
   "source": [
    "### Example:\n",
    "![Alt text](all_filter.png)"
   ]
  },
  {
   "attachments": {},
   "cell_type": "markdown",
   "metadata": {},
   "source": [
    "### Card with total value\n",
    "Total Sales = SUMX(ALL(Sales),Sales[Sales Amount]) "
   ]
  },
  {
   "attachments": {},
   "cell_type": "markdown",
   "metadata": {},
   "source": [
    "### Table 1 with percentage from total\n",
    ">% Sales = SUMX(Sales,Sales[Sales Amount])/SUMX(ALL(Sales),Sales[Sales Amount])"
   ]
  },
  {
   "attachments": {},
   "cell_type": "markdown",
   "metadata": {},
   "source": [
    "### Table 2 with percentage contribution of each product for each year (no filter on year while there is filtering by business type). This can be achieved by one of the two: ALL('Date'[Fiscal Year]) OR ALLEXCEPT('Date'[business Type]).\n",
    ">% Sales_year = SUMX(Sales,Sales[Sales Amount])/CALCULATE(SUM(Sales[Sales Amount]),ALL('Date'[Fiscal Year]))"
   ]
  },
  {
   "attachments": {},
   "cell_type": "markdown",
   "metadata": {},
   "source": [
    "### Table 3 with percentage contribution of each year for each product sales (no filter on business type while there is filtering by year). This can be achieved by one of the two: ALL('Date'[Business Type]) OR ALLEXCEPT('Date'[Fiscal Year]).\n",
    "% Sales_type = SUMX(Sales,Sales[Sales Amount])/CALCULATE(SUM(Sales[Sales Amount]),ALL(Reseller[Business Type]))"
   ]
  },
  {
   "attachments": {},
   "cell_type": "markdown",
   "metadata": {},
   "source": [
    "# Summary of filtering by Calculate and SUMX"
   ]
  },
  {
   "attachments": {},
   "cell_type": "markdown",
   "metadata": {},
   "source": [
    "## Calculate:\n",
    "1. ALL(Table): no filter on all columns meaning return total.\n",
    "2. ALL(Table, Column): no filter on column meaning return total when column is the filter.\n",
    "3. ALLEXCEPT(Table, Column): filter by column meaning return disaggregation by column."
   ]
  },
  {
   "attachments": {},
   "cell_type": "markdown",
   "metadata": {},
   "source": [
    "## SUMX:\n",
    "1. ALL(Table): no filter on all columns meaning return total.\n",
    "2. ALLEXCEPT(Table, Column): no filter on all columns meaning return total.\n",
    ">Note: ALL(Table, Column) is not allowed for SUMX similar to ALLNONBLANK, AND REMOVEFILTERS"
   ]
  },
  {
   "attachments": {},
   "cell_type": "markdown",
   "metadata": {},
   "source": [
    "# ALLNOBLANKROW\n",
    "From the parent table of a relationship, returns all rows but the blank row, or all distinct values of a column but the blank row, and disregards any context filters that might exist."
   ]
  },
  {
   "attachments": {},
   "cell_type": "markdown",
   "metadata": {},
   "source": [
    "# ALLSELECTED\n",
    "When ALL has been applied to remove filters in the above tables, value for total remains the same when we apply external filter. Sometimes, we need to calculate total for selected filters. In that case, ALLSELECTED is used to indicate total should be calculated for values related to external filters only. In the example below, country is the external filter and 'selected sales' calculates total for applied external filter:\n",
    ">Selected Sales = CALCULATE(sum(Sales[Sales Amount]),ALLSELECTED('Sales Territory'[Country]))\n",
    "![Alt text](allselected.png)"
   ]
  }
 ],
 "metadata": {
  "language_info": {
   "name": "python"
  },
  "orig_nbformat": 4
 },
 "nbformat": 4,
 "nbformat_minor": 2
}
