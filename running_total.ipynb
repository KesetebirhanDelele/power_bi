{
 "cells": [
  {
   "attachments": {},
   "cell_type": "markdown",
   "metadata": {},
   "source": [
    "# Running Total or Cummulative by Date\n",
    "sales_cummulative = CALCULATE([Sales_measure],FILTER(ALL(Sales[DueDateKey]),Sales[DueDateKey]<=MAX(Sales[DueDateKey])))"
   ]
  },
  {
   "attachments": {},
   "cell_type": "markdown",
   "metadata": {},
   "source": [
    "# Running Total or Cummulative by a Categorical Variable\n",
    "rank_sales_country = RANKX(ALL(Reseller[Country-Region]),[Sales_measure])"
   ]
  }
 ],
 "metadata": {
  "language_info": {
   "name": "python"
  },
  "orig_nbformat": 4
 },
 "nbformat": 4,
 "nbformat_minor": 2
}
