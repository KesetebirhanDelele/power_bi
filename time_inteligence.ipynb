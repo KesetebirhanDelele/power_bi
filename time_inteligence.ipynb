{
 "cells": [
  {
   "attachments": {},
   "cell_type": "markdown",
   "metadata": {},
   "source": [
    "# Time Inteligence Functions\n",
    "\n",
    "YTD => Sales_YTD = TOTALYTD([Sales_measure],DATESYTD('Date'[Date].[Date]))\n",
    "\n",
    "\n",
    "QTD => Sales_QTD = TOTALYTD([Sales_measure],DATESQTD('Date'[Date].[Date]))\n",
    "\n",
    "\n",
    "MTD => Sales_MTD = TOTALMTD([Sales_measure],DATESMTD('Date'[Date].[Date]))\n",
    "\n",
    "\n",
    "Note: \n",
    "\n",
    "Sales_MTD = TOTALMTD([Sales_measure],'Date'[Date].[Date]) gives the same result if end of month is the reference date. Otherwise, the above formula will work in all cases especially when we need different end date than end of the month/quarter/year:\n",
    "\n",
    "\n",
    "Example: \n",
    "\n",
    "\n",
    "Sales_MTD_July_7_2017 = TOTALMTD([Sales_measure],DATESMTD('Date'[Date].[Date]),'Date'[Date].[Date]>=DATE(2017,7,2) && 'Date'[Date].[Date]<=DATE(2017,7,7))\n",
    "\n",
    "Here, last date of calculation will be July 7, 2017 while first date will be July 1 by default.\n",
    "\n",
    "### MTD using Calculate\n",
    "Sales_MTD_CALCULATE = CALCULATE([Sales_measure],DATESMTD('Date'[Date].[Date]))"
   ]
  },
  {
   "attachments": {},
   "cell_type": "markdown",
   "metadata": {},
   "source": [
    "# Previous Period: PreviousYear, PreviousQuarter, PreviousMonth\n",
    "Sales_Previous Month = CALCULATE([Sales_measure],PREVIOUSMONTH('Date'[Date].[Date]))"
   ]
  },
  {
   "attachments": {},
   "cell_type": "markdown",
   "metadata": {},
   "source": [
    "# Same Period Last Year\n",
    "\n",
    "Sales_sameperiodlastyear = CALCULATE([Sales_measure],SAMEPERIODLASTYEAR('Date'[Date].[Date]))"
   ]
  },
  {
   "attachments": {},
   "cell_type": "markdown",
   "metadata": {},
   "source": [
    "# ParallelPeriod\n",
    "\n",
    "> In this example, sales from current month is comapred with that of sales from 5 months back\n",
    "\n",
    "sales_parallel_period = CALCULATE([Sales_measure],PARALLELPERIOD('Date'[Date].[Date],-5,MONTH))"
   ]
  }
 ],
 "metadata": {
  "language_info": {
   "name": "python"
  },
  "orig_nbformat": 4
 },
 "nbformat": 4,
 "nbformat_minor": 2
}
